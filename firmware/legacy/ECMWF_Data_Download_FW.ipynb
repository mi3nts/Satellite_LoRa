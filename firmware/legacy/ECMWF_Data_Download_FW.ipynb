{
 "cells": [
  {
   "cell_type": "code",
   "execution_count": 1,
   "id": "07039458",
   "metadata": {},
   "outputs": [],
   "source": [
    "# Downloading one data set of temperature\n",
    "# Location = around Fort Worth\n",
    "# Date = 2021.01.01\n",
    "# Time = 12:00"
   ]
  },
  {
   "cell_type": "code",
   "execution_count": 2,
   "id": "ad8a1af0",
   "metadata": {},
   "outputs": [],
   "source": [
    "import cdsapi"
   ]
  },
  {
   "cell_type": "code",
   "execution_count": null,
   "id": "746e9220",
   "metadata": {},
   "outputs": [
    {
     "name": "stderr",
     "output_type": "stream",
     "text": [
      "2022-04-04 12:49:01,451 INFO Welcome to the CDS\n",
      "2022-04-04 12:49:01,453 INFO Sending request to https://cds.climate.copernicus.eu/api/v2/resources/reanalysis-era5-pressure-levels\n",
      "2022-04-04 12:49:01,655 INFO Request is queued\n"
     ]
    }
   ],
   "source": [
    "# Fort Worth Latitude = 32.759154 & Longitude = -97.342332\n",
    " \n",
    "c = cdsapi.Client()\n",
    "c.retrieve(\"reanalysis-era5-pressure-levels\",\n",
    "{\n",
    "\"variable\": \"temperature\",\n",
    "\"pressure_level\": \"500\",\n",
    "\"product_type\": \"reanalysis\",\n",
    "\"year\": \"2021\",\n",
    "\"month\": \"01\",\n",
    "\"day\": \"01\",\n",
    "\"time\": \"12:00\",\n",
    "\"format\": \"grib\",\n",
    "'area': [33, -98, 32, -97,],       # Fort Worth area\n",
    "#'grid': [0.1, 0.1]\n",
    "}, \"/home/prabu/Research/ECMWF_data/ownload2.grib\")"
   ]
  },
  {
   "cell_type": "code",
   "execution_count": null,
   "id": "fe0611b9",
   "metadata": {},
   "outputs": [],
   "source": []
  }
 ],
 "metadata": {
  "kernelspec": {
   "display_name": "Python 3 (ipykernel)",
   "language": "python",
   "name": "python3"
  },
  "language_info": {
   "codemirror_mode": {
    "name": "ipython",
    "version": 3
   },
   "file_extension": ".py",
   "mimetype": "text/x-python",
   "name": "python",
   "nbconvert_exporter": "python",
   "pygments_lexer": "ipython3",
   "version": "3.8.10"
  }
 },
 "nbformat": 4,
 "nbformat_minor": 5
}
