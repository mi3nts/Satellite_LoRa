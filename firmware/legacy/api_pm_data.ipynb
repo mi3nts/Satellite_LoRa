{
 "cells": [
  {
   "cell_type": "code",
   "execution_count": 129,
   "id": "99572119",
   "metadata": {},
   "outputs": [],
   "source": [
    "import csv\n",
    "import pandas as pd\n",
    "import matplotlib.pyplot as plt\n",
    "import numpy as np"
   ]
  },
  {
   "cell_type": "code",
   "execution_count": 108,
   "id": "5ed11990",
   "metadata": {},
   "outputs": [
    {
     "name": "stderr",
     "output_type": "stream",
     "text": [
      "/home/prabu/anaconda3/envs/satellite/lib/python3.9/site-packages/IPython/core/interactiveshell.py:3444: DtypeWarning: Columns (17) have mixed types.Specify dtype option on import or set low_memory=False.\n",
      "  exec(code_obj, self.user_global_ns, self.user_ns)\n"
     ]
    }
   ],
   "source": [
    "df = pd.read_csv ('/home/prabu/Research/API_PM_data/hourly_88101_2021.csv')"
   ]
  },
  {
   "cell_type": "code",
   "execution_count": 109,
   "id": "d7f45548",
   "metadata": {},
   "outputs": [
    {
     "data": {
      "text/plain": [
       "\"\\nfor index, row in df.iterrows():\\n    a = str(row['State Name']) \\n    if a == 'Texas':\\n        print(index, 'Texas', row['County Name'], row['Latitude'], row['Longitude'], row['Date Local'],               row['Time Local'], row['Date GMT'], row['Time GMT'], row['Sample Measurement'])  \\n\""
      ]
     },
     "execution_count": 109,
     "metadata": {},
     "output_type": "execute_result"
    }
   ],
   "source": [
    "# Texas Tarrant 32.759154 -97.342332 index(3239913-3245442) from 2021-01-01 00:00 to 2021-08-31 23:00\n",
    "# finding Fort Worth data \n",
    "\n",
    "\"\"\"\n",
    "for index, row in df.iterrows():\n",
    "    a = str(row['State Name']) \n",
    "    if a == 'Texas':\n",
    "        print(index, 'Texas', row['County Name'], row['Latitude'], row['Longitude'], row['Date Local'], \\\n",
    "              row['Time Local'], row['Date GMT'], row['Time GMT'], row['Sample Measurement'])  \n",
    "\"\"\"\n",
    "\n",
    "# State = Texas\n",
    "# County = Tarrant\n",
    "# City = Fort Worth\n",
    "# Latitude = 32.759154\n",
    "# Longitude = -97.342332\n",
    "# Index = 3239913 - 3245442\n",
    "# Date = 2021-01-01 00:00 - 021-08-31 23:00"
   ]
  },
  {
   "cell_type": "code",
   "execution_count": 113,
   "id": "e099ec09",
   "metadata": {},
   "outputs": [],
   "source": [
    "# Creating new dataFrame with Fort Worth data\n",
    "\n",
    "dfFW = df[3239913:3245442]\n",
    "# df_new.to_csv(r'/home/prabu/Research/API_PM_data/PM_TX.csv', sep='\\t', encoding='utf-8', header='true')"
   ]
  },
  {
   "cell_type": "code",
   "execution_count": 131,
   "id": "75f10d93",
   "metadata": {},
   "outputs": [
    {
     "name": "stderr",
     "output_type": "stream",
     "text": [
      "/home/prabu/anaconda3/envs/satellite/lib/python3.9/site-packages/pandas/core/generic.py:5516: SettingWithCopyWarning: \n",
      "A value is trying to be set on a copy of a slice from a DataFrame.\n",
      "Try using .loc[row_indexer,col_indexer] = value instead\n",
      "\n",
      "See the caveats in the documentation: https://pandas.pydata.org/pandas-docs/stable/user_guide/indexing.html#returning-a-view-versus-a-copy\n",
      "  self[name] = value\n"
     ]
    }
   ],
   "source": [
    "\n",
    "dfFW.POC = pd.to_datetime(df_new['Date GMT'] + df_new['Time GMT'], format='%Y-%m-%d%H:%M') # combine date and time reasign to POC column\n",
    "dfFW2 = dfFW.rename(columns={\"POC\": \"DateTime\", \"Sample Measurement\": \"PM2.5\"})\n",
    "dfFW3 = dfFW2[['DateTime', 'Latitude', 'Longitude', 'PM2.5']]\n",
    "# dfFW3.to_csv(r'/home/prabu/Research/API_PM_data/PM_TX.csv', sep='\\t', encoding='utf-8', header='true')"
   ]
  },
  {
   "cell_type": "code",
   "execution_count": 126,
   "id": "9909f27d",
   "metadata": {},
   "outputs": [
    {
     "data": {
      "text/html": [
       "<div>\n",
       "<style scoped>\n",
       "    .dataframe tbody tr th:only-of-type {\n",
       "        vertical-align: middle;\n",
       "    }\n",
       "\n",
       "    .dataframe tbody tr th {\n",
       "        vertical-align: top;\n",
       "    }\n",
       "\n",
       "    .dataframe thead th {\n",
       "        text-align: right;\n",
       "    }\n",
       "</style>\n",
       "<table border=\"1\" class=\"dataframe\">\n",
       "  <thead>\n",
       "    <tr style=\"text-align: right;\">\n",
       "      <th></th>\n",
       "      <th>DateTime</th>\n",
       "      <th>Latitude</th>\n",
       "      <th>Longitude</th>\n",
       "      <th>PM2.5</th>\n",
       "    </tr>\n",
       "  </thead>\n",
       "  <tbody>\n",
       "    <tr>\n",
       "      <th>3239913</th>\n",
       "      <td>2021-01-01 06:00:00</td>\n",
       "      <td>32.759154</td>\n",
       "      <td>-97.342332</td>\n",
       "      <td>2.1</td>\n",
       "    </tr>\n",
       "    <tr>\n",
       "      <th>3239914</th>\n",
       "      <td>2021-01-01 07:00:00</td>\n",
       "      <td>32.759154</td>\n",
       "      <td>-97.342332</td>\n",
       "      <td>5.7</td>\n",
       "    </tr>\n",
       "    <tr>\n",
       "      <th>3239915</th>\n",
       "      <td>2021-01-01 08:00:00</td>\n",
       "      <td>32.759154</td>\n",
       "      <td>-97.342332</td>\n",
       "      <td>1.7</td>\n",
       "    </tr>\n",
       "    <tr>\n",
       "      <th>3239916</th>\n",
       "      <td>2021-01-01 09:00:00</td>\n",
       "      <td>32.759154</td>\n",
       "      <td>-97.342332</td>\n",
       "      <td>0.3</td>\n",
       "    </tr>\n",
       "    <tr>\n",
       "      <th>3239917</th>\n",
       "      <td>2021-01-01 10:00:00</td>\n",
       "      <td>32.759154</td>\n",
       "      <td>-97.342332</td>\n",
       "      <td>1.2</td>\n",
       "    </tr>\n",
       "    <tr>\n",
       "      <th>...</th>\n",
       "      <td>...</td>\n",
       "      <td>...</td>\n",
       "      <td>...</td>\n",
       "      <td>...</td>\n",
       "    </tr>\n",
       "    <tr>\n",
       "      <th>3245437</th>\n",
       "      <td>2021-09-01 00:00:00</td>\n",
       "      <td>32.759154</td>\n",
       "      <td>-97.342332</td>\n",
       "      <td>7.7</td>\n",
       "    </tr>\n",
       "    <tr>\n",
       "      <th>3245438</th>\n",
       "      <td>2021-09-01 01:00:00</td>\n",
       "      <td>32.759154</td>\n",
       "      <td>-97.342332</td>\n",
       "      <td>8.8</td>\n",
       "    </tr>\n",
       "    <tr>\n",
       "      <th>3245439</th>\n",
       "      <td>2021-09-01 02:00:00</td>\n",
       "      <td>32.759154</td>\n",
       "      <td>-97.342332</td>\n",
       "      <td>10.3</td>\n",
       "    </tr>\n",
       "    <tr>\n",
       "      <th>3245440</th>\n",
       "      <td>2021-09-01 03:00:00</td>\n",
       "      <td>32.759154</td>\n",
       "      <td>-97.342332</td>\n",
       "      <td>10.0</td>\n",
       "    </tr>\n",
       "    <tr>\n",
       "      <th>3245441</th>\n",
       "      <td>2021-09-01 04:00:00</td>\n",
       "      <td>32.759154</td>\n",
       "      <td>-97.342332</td>\n",
       "      <td>9.5</td>\n",
       "    </tr>\n",
       "  </tbody>\n",
       "</table>\n",
       "<p>5529 rows × 4 columns</p>\n",
       "</div>"
      ],
      "text/plain": [
       "                   DateTime   Latitude  Longitude  PM2.5\n",
       "3239913 2021-01-01 06:00:00  32.759154 -97.342332    2.1\n",
       "3239914 2021-01-01 07:00:00  32.759154 -97.342332    5.7\n",
       "3239915 2021-01-01 08:00:00  32.759154 -97.342332    1.7\n",
       "3239916 2021-01-01 09:00:00  32.759154 -97.342332    0.3\n",
       "3239917 2021-01-01 10:00:00  32.759154 -97.342332    1.2\n",
       "...                     ...        ...        ...    ...\n",
       "3245437 2021-09-01 00:00:00  32.759154 -97.342332    7.7\n",
       "3245438 2021-09-01 01:00:00  32.759154 -97.342332    8.8\n",
       "3245439 2021-09-01 02:00:00  32.759154 -97.342332   10.3\n",
       "3245440 2021-09-01 03:00:00  32.759154 -97.342332   10.0\n",
       "3245441 2021-09-01 04:00:00  32.759154 -97.342332    9.5\n",
       "\n",
       "[5529 rows x 4 columns]"
      ]
     },
     "execution_count": 126,
     "metadata": {},
     "output_type": "execute_result"
    }
   ],
   "source": [
    "dfFW3"
   ]
  },
  {
   "cell_type": "code",
   "execution_count": 127,
   "id": "7086fbf2",
   "metadata": {},
   "outputs": [
    {
     "data": {
      "image/png": "[encoded data removed]",
      "text/plain": [
       "<Figure size 432x288 with 1 Axes>"
      ]
     },
     "metadata": {
      "needs_background": "light"
     },
     "output_type": "display_data"
    }
   ],
   "source": [
    "dfFW3.plot(x=\"DateTime\", y=\"PM2.5\");"
   ]
  },
  {
   "cell_type": "code",
   "execution_count": 130,
   "id": "c6abe837",
   "metadata": {},
   "outputs": [
    {
     "data": {
      "text/plain": [
       "106.8"
      ]
     },
     "execution_count": 130,
     "metadata": {},
     "output_type": "execute_result"
    }
   ],
   "source": [
    "np.max(dfFW3[\"PM2.5\"])"
   ]
  },
  {
   "cell_type": "code",
   "execution_count": null,
   "id": "38ff53eb",
   "metadata": {},
   "outputs": [],
   "source": []
  }
 ],
 "metadata": {
  "kernelspec": {
   "display_name": "Python 3 (ipykernel)",
   "language": "python",
   "name": "python3"
  },
  "language_info": {
   "codemirror_mode": {
    "name": "ipython",
    "version": 3
   },
   "file_extension": ".py",
   "mimetype": "text/x-python",
   "name": "python",
   "nbconvert_exporter": "python",
   "pygments_lexer": "ipython3",
   "version": "3.9.7"
  }
 },
 "nbformat": 4,
 "nbformat_minor": 5
}
