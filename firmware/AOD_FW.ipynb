{
 "cells": [
  {
   "cell_type": "code",
   "execution_count": 1,
   "id": "feffe171",
   "metadata": {},
   "outputs": [],
   "source": [
    "# AOD historical data close to Fort Worth \n",
    "# Latitude = 32.759154\n",
    "# Longitude = -97.342332"
   ]
  },
  {
   "cell_type": "code",
   "execution_count": 1,
   "id": "3f945231",
   "metadata": {},
   "outputs": [],
   "source": [
    "from netCDF4 import Dataset\n",
    "import numpy as np\n",
    "from cartopy.mpl.ticker import LongitudeFormatter, LatitudeFormatter"
   ]
  },
  {
   "cell_type": "code",
   "execution_count": 2,
   "id": "c8af13bb",
   "metadata": {},
   "outputs": [],
   "source": [
    "file_id = Dataset(\"/home/prabu/Research/GOES_16_data/OR_ABI-L2-AODC-M6_G16_s20211400101152_e20211400103525_c20211400105138.nc\")"
   ]
  },
  {
   "cell_type": "code",
   "execution_count": 3,
   "id": "19c30405",
   "metadata": {},
   "outputs": [
    {
     "name": "stderr",
     "output_type": "stream",
     "text": [
      "/tmp/ipykernel_3662/1222391679.py:19: RuntimeWarning: invalid value encountered in sqrt\n",
      "  r_s = (-1.0*b_var - np.sqrt((b_var**2)-(4.0*a_var*c_var)))/(2.0*a_var)\n",
      "/tmp/ipykernel_3662/1222391679.py:25: RuntimeWarning: invalid value encountered in sqrt\n",
      "  Lat = (180.0/np.pi)*(np.arctan(((r_eq*r_eq)/(r_pol*r_pol))*((s_z/np.sqrt(((H-s_x)*(H-s_x))+(s_y*s_y))))))\n"
     ]
    }
   ],
   "source": [
    "# Finding Latitudes and Longitudes of AOD data\n",
    "\n",
    "proj_info = file_id.variables['goes_imager_projection']\n",
    "lon_origin = proj_info.longitude_of_projection_origin\n",
    "H = proj_info.perspective_point_height+proj_info.semi_major_axis\n",
    "r_eq = proj_info.semi_major_axis\n",
    "r_pol = proj_info.semi_minor_axis\n",
    "\n",
    "lat_rad_1d = file_id.variables['x'][:]\n",
    "lon_rad_1d = file_id.variables['y'][:]\n",
    "\n",
    "#Create meshgrid filled with radian angles\n",
    "lat_rad,lon_rad = np.meshgrid(lat_rad_1d,lon_rad_1d)\n",
    "#lat/lon calculus routine from satellite radian angle vectors\n",
    "lambda_0 = (lon_origin*np.pi)/180.0\n",
    "\n",
    "a_var = np.power(np.sin(lat_rad),2.0) + (np.power(np.cos(lat_rad),2.0)*(np.power(np.cos(lon_rad),2.0)+(((r_eq*r_eq)/(r_pol*r_pol))*np.power(np.sin(lon_rad),2.0))))\n",
    "b_var = -2.0*H*np.cos(lat_rad)*np.cos(lon_rad)\n",
    "c_var = (H**2.0)-(r_eq**2.0)\n",
    "    \n",
    "r_s = (-1.0*b_var - np.sqrt((b_var**2)-(4.0*a_var*c_var)))/(2.0*a_var)\n",
    "    \n",
    "s_x = r_s*np.cos(lat_rad)*np.cos(lon_rad)\n",
    "s_y = - r_s*np.sin(lat_rad)\n",
    "s_z = r_s*np.cos(lat_rad)*np.sin(lon_rad)\n",
    "    \n",
    "Lat = (180.0/np.pi)*(np.arctan(((r_eq*r_eq)/(r_pol*r_pol))*((s_z/np.sqrt(((H-s_x)*(H-s_x))+(s_y*s_y))))))\n",
    "Lon = (lambda_0 - np.arctan(s_y/(H-s_x)))*(180.0/np.pi)"
   ]
  },
  {
   "cell_type": "code",
   "execution_count": 57,
   "id": "d4507de1",
   "metadata": {},
   "outputs": [
    {
     "name": "stdout",
     "output_type": "stream",
     "text": [
      "(array([647]), array([835]))\n"
     ]
    }
   ],
   "source": [
    "# Finding index of closest location to Fort Worth from 2D array of Latitudes and Longitudes \n",
    "\n",
    "X_FW = -97.342332   # Fort Worth Longitude\n",
    "Y_FW = 32.759154    # Fort Worth Latitudes \n",
    "\n",
    "x = Lon[:][:]\n",
    "y = Lat[:][:]\n",
    "\n",
    "delt_x = abs(X_FW - x)\n",
    "delt_y = abs(Y_FW - y)\n",
    "dis = (((delt_x)**(2))+((delt_y)**(2)))**(.5)    # Distance between Fort Worth and all the Latitudes and Longitudes\n",
    "\n",
    "index = np.where(dis == np.min(dis))  # index of minimum distance\n",
    "print(index)"
   ]
  },
  {
   "cell_type": "code",
   "execution_count": 59,
   "id": "47f5cb2f",
   "metadata": {},
   "outputs": [
    {
     "name": "stdout",
     "output_type": "stream",
     "text": [
      "0.27103195\n"
     ]
    }
   ],
   "source": [
    "# AOD data for Latitudes and Longitudes in 2D array\n",
    "AOD_data = file_id.variables['AOD'][:,:]\n",
    "\n",
    "AOD_FW = AOD_data[647][835]    # AOD value near to Fort Worth \n",
    "print(AOD_FW)"
   ]
  },
  {
   "cell_type": "code",
   "execution_count": null,
   "id": "48753f9a",
   "metadata": {},
   "outputs": [],
   "source": []
  }
 ],
 "metadata": {
  "kernelspec": {
   "display_name": "Python 3 (ipykernel)",
   "language": "python",
   "name": "python3"
  },
  "language_info": {
   "codemirror_mode": {
    "name": "ipython",
    "version": 3
   },
   "file_extension": ".py",
   "mimetype": "text/x-python",
   "name": "python",
   "nbconvert_exporter": "python",
   "pygments_lexer": "ipython3",
   "version": "3.9.7"
  }
 },
 "nbformat": 4,
 "nbformat_minor": 5
}
