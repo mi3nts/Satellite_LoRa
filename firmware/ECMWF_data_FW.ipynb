{
 "cells": [
  {
   "cell_type": "code",
   "execution_count": 1,
   "id": "26b371ae",
   "metadata": {},
   "outputs": [],
   "source": [
    "import numpy as np\n",
    "import pygrib\n",
    "import xarray as xr"
   ]
  },
  {
   "cell_type": "code",
   "execution_count": 4,
   "id": "feb7d57c",
   "metadata": {},
   "outputs": [
    {
     "name": "stdout",
     "output_type": "stream",
     "text": [
      "[[258.13389587 258.20811462 258.26573181 258.25987244 258.24717712]\n",
      " [258.31163025 258.370224   258.38487244 258.35557556 258.37120056]\n",
      " [258.573349   258.67881775 258.71104431 258.71006775 258.75987244]\n",
      " [258.68663025 258.83702087 258.92588806 258.9874115  259.057724  ]\n",
      " [258.57920837 258.74424744 258.86729431 258.96495056 259.03623962]]\n"
     ]
    }
   ],
   "source": [
    "data = '/home/prabu/Research/ECMWF_data/ownload2.grib'\n",
    "gr = pygrib.open(data)\n",
    "grb = gr.select()[0]\n",
    "data1 = grb.values\n",
    "print(data1)"
   ]
  },
  {
   "cell_type": "code",
   "execution_count": null,
   "id": "03399767",
   "metadata": {},
   "outputs": [],
   "source": []
  }
 ],
 "metadata": {
  "kernelspec": {
   "display_name": "Python 3 (ipykernel)",
   "language": "python",
   "name": "python3"
  },
  "language_info": {
   "codemirror_mode": {
    "name": "ipython",
    "version": 3
   },
   "file_extension": ".py",
   "mimetype": "text/x-python",
   "name": "python",
   "nbconvert_exporter": "python",
   "pygments_lexer": "ipython3",
   "version": "3.9.7"
  }
 },
 "nbformat": 4,
 "nbformat_minor": 5
}
